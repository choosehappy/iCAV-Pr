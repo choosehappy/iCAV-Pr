{
 "cells": [
  {
   "cell_type": "markdown",
   "metadata": {},
   "source": [
    "#  Install, Setup drives and imports"
   ]
  },
  {
   "cell_type": "code",
   "execution_count": null,
   "metadata": {},
   "outputs": [],
   "source": [
    "import glob\n",
    "from tqdm.autonotebook import tqdm\n",
    "from shapely.geometry import shape\n",
    "import os\n",
    "import geojson\n",
    "import pandas as pd\n"
   ]
  },
  {
   "cell_type": "code",
   "execution_count": 2,
   "metadata": {},
   "outputs": [],
   "source": [
    "IN_CWR_SERVER = False \n",
    "slideset = 'cav2'"
   ]
  },
  {
   "cell_type": "markdown",
   "metadata": {},
   "source": [
    "# Files\n"
   ]
  },
  {
   "cell_type": "code",
   "execution_count": 3,
   "metadata": {},
   "outputs": [
    {
     "name": "stdout",
     "output_type": "stream",
     "text": [
      "115\n"
     ]
    }
   ],
   "source": [
    "if IN_CWR_SERVER :\n",
    "  datadir = \"//datacd31/\"\n",
    "else : # LOCAL\n",
    "  datadir = \"C:\\\\research\\\\cav\\\\datacd31\\\\\"\n",
    "\n",
    "# input folders and files\n",
    "jsondir = datadir + \"json\\\\\" + slideset + \"\\\\\"\n",
    "imgdir = datadir + \"thumb\\\\\" + slideset + \"\\\\\"\n",
    "img_files= glob.glob(imgdir + slideset + \"-DC-*_thumb.png\") + \\\n",
    "  glob.glob(imgdir + slideset + \"-DY1-*_thumb.png\")+ \\\n",
    "  glob.glob(imgdir + slideset + \"-USHER-*_thumb.png\")+ \\\n",
    "  glob.glob(imgdir + slideset + \"-MATCH-*_thumb.png\")+ \\\n",
    "  glob.glob(imgdir + slideset + \"-HC-*_thumb.png\") \n",
    "#img_files=glob.glob(imgdir + \"/CAV-DC-12_thumb.png\") +\\\n",
    "#  glob.glob(imgdir + \"/CAV-HC-6_thumb.png\") \n",
    "#img_files=glob.glob(imgdir + \"/CAV2-DY1-15_thumb.png\") +\\\n",
    "#  glob.glob(imgdir + \"/CAV2-HC-6_thumb.png\") \n",
    "\n",
    "\n",
    "#output folders and files\n",
    "outdir = datadir + \"output\\\\\" + slideset + \"\\\\\"\n",
    "#json4qp = \"json4qp\"\n",
    "DAB_CSV = \"21cd31_dab.csv\"\n",
    "HEM_CSV = \"21cd31_hem.csv\"\n",
    "TIS_CSV = \"21cd31_tis.csv\"\n",
    "NUC_CSV = \"21cd31_nuc.csv\"\n",
    "\n",
    "# configs\n",
    "save_csv = True\n",
    "\n",
    "print(len(img_files))\n",
    "#print(img_files)\n"
   ]
  },
  {
   "cell_type": "markdown",
   "metadata": {},
   "source": [
    "# Functions"
   ]
  },
  {
   "cell_type": "code",
   "execution_count": 4,
   "metadata": {},
   "outputs": [],
   "source": [
    "#---------------------------------------------------\n",
    "def readAnnoJsonFile(ann_fname): \n",
    "  with open(ann_fname) as a:\n",
    "      annotationgeojson = geojson.load(a)\n",
    "  cd31_dab_anno_list = [obj for obj in annotationgeojson if(obj['properties']['classification']['name']== \"CD31DAB\")]\n",
    "  cd31_dab_geom_list = [shape(obj[\"geometry\"]) for obj in cd31_dab_anno_list] \n",
    "\n",
    "  cd31_hem_anno_list = [obj for obj in annotationgeojson if(obj['properties']['classification']['name']== \"CD31HEMA\")]\n",
    "  cd31_hem_geom_list = [shape(obj[\"geometry\"]) for obj in cd31_hem_anno_list] \n",
    "\n",
    "  cd31_tis_anno_list = [obj for obj in annotationgeojson if(obj['properties']['classification']['name']== \"CD31Tissue\")]\n",
    "  cd31_tis_geom_list = [shape(obj[\"geometry\"]) for obj in cd31_tis_anno_list] \n",
    "\n",
    "  return cd31_dab_geom_list, cd31_hem_geom_list, cd31_tis_geom_list\n",
    "\n",
    "#---------------------------------------------------\n",
    "def readNucJsonFile(nuc_fname): \n",
    "  with open(nuc_fname) as a:\n",
    "      nucobjects = geojson.load(a)\n",
    "\n",
    "  nucshapes=[shape(obj[\"geometry\"]) for obj in nucobjects]\n",
    "  return nucshapes"
   ]
  },
  {
   "cell_type": "markdown",
   "metadata": {},
   "source": [
    "# Main"
   ]
  },
  {
   "cell_type": "code",
   "execution_count": 5,
   "metadata": {},
   "outputs": [
    {
     "name": "stderr",
     "output_type": "stream",
     "text": [
      "100%|██████████| 115/115 [11:23<00:00,  5.94s/it]\n"
     ]
    }
   ],
   "source": [
    "\n",
    "dab_df=pd.DataFrame()\n",
    "hem_df=pd.DataFrame()\n",
    "tis_df=pd.DataFrame()\n",
    "nuc_df=pd.DataFrame()\n",
    "for image_fname in tqdm(img_files):\n",
    "  ann_fname=image_fname.replace(imgdir, jsondir).replace(\"_thumb.png\",\"_ann.json\")\n",
    "  nuc_fname=image_fname.replace(imgdir, jsondir).replace(\"_thumb.png\",\"_nuc.json\")\n",
    "  \n",
    "  #e.g. = CAV-DC-1, CAV-DY1-1\n",
    "  fname = os.path.basename(image_fname).replace(\"_thumb.png\",\"\").replace(\"\\\\\",\"\")\n",
    "  #e.g. = DC, DY\n",
    "  #cohort = fname.replace(\"CAV-\", \"\")[:2]\n",
    "  cohort = fname.replace(slideset.upper() + \"-\", \"\")[:2]\n",
    "  #print(\"processing...\", fname)\n",
    "\n",
    "  # read geojson files\n",
    "  dab_geom_list, hem_geom_list, tis_geom_list = readAnnoJsonFile(ann_fname) \n",
    "  nuc_geom_list = readNucJsonFile(nuc_fname) \n",
    "  # extract data\n",
    "  # text = [[\"Hello\", \"World!\"], [\"Lets\", \"Eat!\"]]\n",
    "  # [word.area for words in text for word in words]\n",
    "  dab_area_list = [dab.area for dab_list in dab_geom_list for dab in dab_list]\n",
    "  dab_poly = [dab for dab_list in dab_geom_list for dab in dab_list]\n",
    "\n",
    "  hem_area_list = [hem.area for hem_list in hem_geom_list for hem in hem_list]\n",
    "  tis_area_list = [tis.area for tis_list in tis_geom_list for tis in tis_list]\n",
    "  nuc_area_list = [nuc.area  for nuc in nuc_geom_list]\n",
    "\n",
    "  # append data to corresponding data frame\n",
    "  temp_d_df = pd.DataFrame({'cohort': cohort, 'fname':fname, 'dab_area': dab_area_list, 'dab_poly':dab_poly})\n",
    "  temp_h_df = pd.DataFrame({'cohort': cohort, 'fname':fname, 'hem_area': hem_area_list})\n",
    "  temp_t_df = pd.DataFrame({'cohort': cohort, 'fname':fname, 'tis_area': tis_area_list})\n",
    "  temp_n_df = pd.DataFrame({'cohort': cohort, 'fname':fname, 'nuc_area': nuc_area_list})\n",
    "  \n",
    "  #print(nuc_objects[0])\n",
    "  dab_df = dab_df.append(temp_d_df)\n",
    "  hem_df = hem_df.append(temp_h_df)\n",
    "  tis_df = tis_df.append(temp_t_df)\n",
    "  nuc_df = nuc_df.append(temp_n_df)\n",
    "\n",
    "  #break\n"
   ]
  },
  {
   "cell_type": "code",
   "execution_count": 6,
   "metadata": {},
   "outputs": [
    {
     "name": "stdout",
     "output_type": "stream",
     "text": [
      "save to pandas output\n",
      "saving: C:\\research\\cav\\datacd31\\output\\cav2\\21cd31_dab.csv.zip\n",
      "saving: C:\\research\\cav\\datacd31\\output\\cav2\\21cd31_hem.csv.zip\n",
      "saving: C:\\research\\cav\\datacd31\\output\\cav2\\21cd31_tis.csv.zip\n",
      "saving: C:\\research\\cav\\datacd31\\output\\cav2\\21cd31_nuc.csv.zip\n",
      "All done\n"
     ]
    }
   ],
   "source": [
    "if save_csv :\n",
    "  if IN_CWR_SERVER :\n",
    "    print(\"not saving csv\")\n",
    "  else:\n",
    "    print(\"save to pandas output\")\n",
    "  #---- save to pandas output\n",
    "    f_dab_df = pd.DataFrame()\n",
    "    f_hem_df = pd.DataFrame()\n",
    "    f_tis_df = pd.DataFrame()\n",
    "    f_nuc_df = pd.DataFrame()\n",
    "\n",
    "    f_dab_df = f_dab_df.append(dab_df)\n",
    "    f_hem_df = f_hem_df.append(hem_df)\n",
    "    f_tis_df = f_tis_df.append(tis_df)\n",
    "    f_nuc_df = f_nuc_df.append(nuc_df)\n",
    "\n",
    "print(f\"saving: {outdir}{DAB_CSV}.zip\")\n",
    "f_dab_df.to_csv(f\"{outdir}{DAB_CSV}.zip\", index=False, compression=dict(method='zip', archive_name=f'{DAB_CSV}'))\n",
    "print(f\"saving: {outdir}{HEM_CSV}.zip\")\n",
    "f_hem_df.to_csv(f\"{outdir}{HEM_CSV}.zip\", index=False, compression=dict(method='zip', archive_name=f'{HEM_CSV}'))\n",
    "print(f\"saving: {outdir}{TIS_CSV}.zip\")\n",
    "f_tis_df.to_csv(f\"{outdir}{TIS_CSV}.zip\", index=False, compression=dict(method='zip', archive_name=f'{TIS_CSV}'))\n",
    "print(f\"saving: {outdir}{NUC_CSV}.zip\")\n",
    "f_nuc_df.to_csv(f\"{outdir}{NUC_CSV}.zip\", index=False, compression=dict(method='zip', archive_name=f'{NUC_CSV}'))\n",
    "print(\"All done\")"
   ]
  },
  {
   "cell_type": "markdown",
   "metadata": {},
   "source": [
    "# Working area"
   ]
  }
 ],
 "metadata": {
  "interpreter": {
   "hash": "eef35e2da80e08d457f207eb475c9c1202eab50e3e1bde5e2984b2d7f2af5721"
  },
  "kernelspec": {
   "display_name": "Python 3.8.5 64-bit",
   "name": "python3"
  },
  "language_info": {
   "codemirror_mode": {
    "name": "ipython",
    "version": 3
   },
   "file_extension": ".py",
   "mimetype": "text/x-python",
   "name": "python",
   "nbconvert_exporter": "python",
   "pygments_lexer": "ipython3",
   "version": "3.10.4"
  },
  "metadata": {
   "interpreter": {
    "hash": "eef35e2da80e08d457f207eb475c9c1202eab50e3e1bde5e2984b2d7f2af5721"
   }
  },
  "orig_nbformat": 2
 },
 "nbformat": 4,
 "nbformat_minor": 2
}
