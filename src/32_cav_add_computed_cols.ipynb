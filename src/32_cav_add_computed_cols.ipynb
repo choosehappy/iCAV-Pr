{
 "cells": [
  {
   "cell_type": "markdown",
   "metadata": {},
   "source": [
    "**Source Code Authors :**   \n",
    "> *Abigail Swamidoss (Abigail.Swamidoss@gmail.com), Samhith Kethireddy (Kethireddy.samhith@gmail.com)*  \n",
    "\n",
    "**Published in Research Article:**  \n",
    "> [Computational Analysis of Routine Biopsies Improves Diagnosis and Prediction of Cardiac Allograft Vasculopathy](https://www.ahajournals.org/doi/10.1161/CIRCULATIONAHA.121.058459)  \n",
    "> *by Eliot G. Peyster, Andrew Janowczyk, Abigail Swamidoss, Samhith Kethireddy, Michael D. Feldman and Kenneth B. Margulies*  \n",
    "*Originally published 11 Apr 2022*  \n",
    "  \n",
    "> [Supplementary Material](https://www.ahajournals.org/action/downloadSupplement?doi=10.1161%2FCIRCULATIONAHA.121.058459&file=10.1161.circulationaha.121.058459_supplemental_materials.pdf)  \n",
    "\n",
    "**Publisher**\n",
    "[Journal of American Heart Association (JAHA) - Circulation](https://www.ahajournals.org/journal/circ)"
   ]
  },
  {
   "cell_type": "markdown",
   "metadata": {},
   "source": [
    "#  Install, Setup gdrive and imports"
   ]
  },
  {
   "cell_type": "code",
   "execution_count": 1,
   "metadata": {},
   "outputs": [],
   "source": [
    "import os\n",
    "import pandas as pd"
   ]
  },
  {
   "cell_type": "code",
   "execution_count": 2,
   "metadata": {},
   "outputs": [],
   "source": [
    "IN_CWR_SERVER = False \n",
    "slideset = 'cav2'"
   ]
  },
  {
   "cell_type": "markdown",
   "metadata": {},
   "source": [
    "# Files\n"
   ]
  },
  {
   "cell_type": "code",
   "execution_count": 3,
   "metadata": {},
   "outputs": [],
   "source": [
    "from pathlib import Path\n",
    "if IN_CWR_SERVER :\n",
    "  DATADIR = \"/gdrive/My Drive/PytorchDigitalPathology/qupath/data/\"\n",
    "else :\n",
    "  projectdir = \"C:\\\\research\\\\cav\\\\\"\n",
    "  DATADIR = projectdir + \"datacd31\\\\\"\n",
    "\n",
    "#input folders and files\n",
    "outdir = DATADIR + \"output\\\\\" + slideset + \"\\\\\"\n",
    "CD31_MVT_DIL_CSV = \"31cd31_mvt_dilated.csv\"\n",
    "CD31_MVT_UDL_CSV = \"31cd31_mvt_undilated.csv\"\n",
    "\n",
    "#output folders and files\n",
    "STATDIR = projectdir + \"stats\\\\\" + slideset + \"\\\\\"\n",
    "FINAL_DIL_CSV = \"32_final_dilated.csv\"\n",
    "FINAL_UDL_CSV = \"32_final_undilated.csv\"\n",
    "\n",
    "HEALTHY = ['HC', 'US', 'MA']\n",
    "DESEASED = ['DC']     \n",
    "DESEASED_YR1 = ['DY'] \n",
    "COHORTS = HEALTHY + DESEASED + DESEASED_YR1\n"
   ]
  },
  {
   "cell_type": "markdown",
   "metadata": {},
   "source": [
    "# Functions"
   ]
  },
  {
   "cell_type": "code",
   "execution_count": 4,
   "metadata": {},
   "outputs": [],
   "source": [
    "def addComputedColumnsInPlace(df) :\n",
    "    df.eval('myocyte_div_tissue = myocyte/tissue', inplace=True)\n",
    "    df.eval('blue_myocar_collagen_myocar_div_myocyte = (blue_myocar + collagen_myocar)/myocyte', inplace=True)\n",
    "    df.eval('in_dab_div_dab_area = in_dab/dab_area', inplace=True)\n",
    "    #bin area / bin count\n",
    "    df.eval('qbin1area_div_count = dab_q1_area/dab_q1', inplace=True)\n",
    "    df.eval('qbin2area_div_count = dab_q2_area/dab_q2', inplace=True)\n",
    "    df.eval('qbin3area_div_count = dab_q3_area/dab_q3', inplace=True)\n",
    "    df.eval('qbin4area_div_count = dab_q4_area/dab_q4', inplace=True)\n",
    "\n",
    "    df.eval('sbin1area_div_count = dab_s1_area/dab_s1', inplace=True)\n",
    "    df.eval('sbin2area_div_count = dab_s2_area/dab_s2', inplace=True)\n",
    "    df.eval('sbin3area_div_count = dab_s3_area/dab_s3', inplace=True)\n",
    "    df.eval('sbin4area_div_count = dab_s4_area/dab_s4', inplace=True)\n",
    "    df.eval('sbin5area_div_count = dab_s5_area/dab_s5', inplace=True)\n",
    "    df.eval('sbin6area_div_count = dab_s6_area/dab_s6', inplace=True)\n",
    "\n",
    "    df.eval('bbin1area_div_count = dab_b1_area/dab_b1', inplace=True)\n",
    "    df.eval('bbin2area_div_count = dab_b2_area/dab_b2', inplace=True)\n",
    "    df.eval('bbin3area_div_count = dab_b3_area/dab_b3', inplace=True)\n",
    "    df.eval('bbin4area_div_count = dab_b4_area/dab_b4', inplace=True)\n",
    "    df.eval('bbin5area_div_count = dab_b5_area/dab_b5', inplace=True)\n",
    "\n",
    "    #bin area / total dab area\n",
    "    df.eval('qbin1area_div_dab_area = dab_q1_area/dab_area', inplace=True)\n",
    "    df.eval('qbin2area_div_dab_area = dab_q2_area/dab_area', inplace=True)\n",
    "    df.eval('qbin3area_div_dab_area = dab_q3_area/dab_area', inplace=True)\n",
    "    df.eval('qbin4area_div_dab_area = dab_q4_area/dab_area', inplace=True)\n",
    "\n",
    "    df.eval('sbin1area_div_dab_area = dab_s1_area/dab_area', inplace=True)\n",
    "    df.eval('sbin2area_div_dab_area  = dab_s2_area/dab_area', inplace=True)\n",
    "    df.eval('sbin3area_div_dab_area  = dab_s3_area/dab_area', inplace=True)\n",
    "    df.eval('sbin4area_div_dab_area  = dab_s4_area/dab_area', inplace=True)\n",
    "    df.eval('sbin5area_div_dab_area  = dab_s5_area/dab_area', inplace=True)\n",
    "    df.eval('sbin6area_div_dab_area  = dab_s6_area/dab_area', inplace=True)\n",
    "\n",
    "    df.eval('bbin1area_div_dab_area  = dab_b1_area/dab_area', inplace=True)\n",
    "    df.eval('bbin2area_div_dab_area = dab_b2_area/dab_area', inplace=True)\n",
    "    df.eval('bbin3area_div_dab_area  = dab_b3_area/dab_area', inplace=True)\n",
    "    df.eval('bbin4area_div_dab_area  = dab_b4_area/dab_area', inplace=True)\n",
    "    df.eval('bbin5area_div_dab_area  = dab_b5_area/dab_area', inplace=True)\n",
    "\n",
    "    #bin area / myocar\n",
    "    df.eval('qbin1area_div_myocar = dab_q1_area/myocar', inplace=True)\n",
    "    df.eval('qbin2area_div_myocar = dab_q2_area/myocar', inplace=True)\n",
    "    df.eval('qbin3area_div_myocar = dab_q3_area/myocar', inplace=True)\n",
    "    df.eval('qbin4area_div_myocar = dab_q4_area/myocar', inplace=True)\n",
    "\n",
    "    df.eval('sbin1area_div_myocar = dab_s1_area/myocar', inplace=True)\n",
    "    df.eval('sbin2area_div_myocar = dab_s2_area/myocar', inplace=True)\n",
    "    df.eval('sbin3area_div_myocar = dab_s3_area/myocar', inplace=True)\n",
    "    df.eval('sbin4area_div_myocar = dab_s4_area/myocar', inplace=True)\n",
    "    df.eval('sbin5area_div_myocar = dab_s5_area/myocar', inplace=True)\n",
    "    df.eval('sbin6area_div_myocar = dab_s6_area/myocar', inplace=True)\n",
    "\n",
    "    df.eval('bbin1area_div_myocar = dab_b1_area/myocar', inplace=True)\n",
    "    df.eval('bbin2area_div_myocar = dab_b2_area/myocar', inplace=True)\n",
    "    df.eval('bbin3area_div_myocar = dab_b3_area/myocar', inplace=True)\n",
    "    df.eval('bbin4area_div_myocar = dab_b4_area/myocar', inplace=True)\n",
    "    df.eval('bbin5area_div_myocar = dab_b5_area/myocar', inplace=True)\n",
    "\n",
    "    #bin area / myocyte\n",
    "    df.eval('qbin1area_div_myocyte = dab_q1_area/myocyte', inplace=True)\n",
    "    df.eval('qbin2area_div_myocyte = dab_q2_area/myocyte', inplace=True)\n",
    "    df.eval('qbin3area_div_myocyte = dab_q3_area/myocyte', inplace=True)\n",
    "    df.eval('qbin4area_div_myocyte = dab_q4_area/myocyte', inplace=True)\n",
    "\n",
    "    df.eval('sbin1area_div_myocyte = dab_s1_area/myocyte', inplace=True)\n",
    "    df.eval('sbin2area_div_myocyte = dab_s2_area/myocyte', inplace=True)\n",
    "    df.eval('sbin3area_div_myocyte = dab_s3_area/myocyte', inplace=True)\n",
    "    df.eval('sbin4area_div_myocyte = dab_s4_area/myocyte', inplace=True)\n",
    "    df.eval('sbin5area_div_myocyte = dab_s5_area/myocyte', inplace=True)\n",
    "    df.eval('sbin6area_div_myocyte = dab_s6_area/myocyte', inplace=True)\n",
    "\n",
    "    df.eval('bbin1area_div_myocyte = dab_b1_area/myocyte', inplace=True)\n",
    "    df.eval('bbin2area_div_myocyte = dab_b2_area/myocyte', inplace=True)\n",
    "    df.eval('bbin3area_div_myocyte = dab_b3_area/myocyte', inplace=True)\n",
    "    df.eval('bbin4area_div_myocyte = dab_b4_area/myocyte', inplace=True)\n",
    "    df.eval('bbin5area_div_myocyte = dab_b5_area/myocyte', inplace=True)\n",
    "\n",
    "    return"
   ]
  },
  {
   "cell_type": "code",
   "execution_count": 5,
   "metadata": {},
   "outputs": [],
   "source": [
    "def addAddlComputedColumnsInPlace(df) :\n",
    "    df.eval('nuc_in_dab_div_tot_nuc_count = in_dab/nuc_count', inplace=True)\n",
    "    df.eval('nuc_in_dab_div_nuc_outside = in_dab/(nuc_count-in_dab)', inplace=True)\n",
    "    df.eval('nuc_in_dab_div_dab_area = in_dab/dab_area', inplace=True)\n",
    "    df.eval('nuc_in_dab_div_hem_area = in_dab/myocyte', inplace=True)\n",
    "    df.eval('nuc_in_dab_div_tis_area = in_dab/tissue', inplace=True)\n",
    "    df.eval('dab_area_div_hem_area = dab_area/myocyte', inplace=True)\n",
    "    df.eval('dab_area_div_tis_area = dab_area/tissue', inplace=True)\n",
    "    df.eval('dab_area_div_tot_nuc_count = dab_area/nuc_count', inplace=True)\n",
    "    df.eval('dab_area_div_nuc_outside = dab_area/(nuc_count-in_dab)', inplace=True)\n",
    "    df.eval('tot_nuc_count_div_tis_area = nuc_count/tissue', inplace=True)\n",
    "    df.eval('tot_nuc_count_div_hem_area = nuc_count/myocyte', inplace=True)\n",
    "    df.eval('nuc_outside_div_tis_area = (nuc_count-in_dab)/tissue', inplace=True)\n",
    "    df.eval('nuc_outside_div_hem_area = (nuc_count-in_dab)/myocyte', inplace=True)\n",
    "    df.eval('tot_nuc_count_div_myocyte = nuc_count/myocyte', inplace=True)\n",
    "    df.eval('tis_area_div_myocyte = tissue/myocyte', inplace=True)\n",
    "    df.eval('dab_area_div_myocyte = dab_area/myocyte', inplace=True)\n",
    "    df.eval('collagen_div_myocyte = collagen/myocyte', inplace=True)\n",
    "    df.eval('blue_div_myocyte = blue/myocyte', inplace=True)\n",
    "    df.eval('myocyte_div_myocar = myocyte/myocar', inplace=True)\n",
    "    df.eval('collagen_myocar_div_myocar = collagen_myocar/myocar', inplace=True)\n",
    "    df.eval('stro_myocar_div_myocar = stro_myocar/myocar', inplace=True)\n",
    "    df.eval('blue_myocar_div_myocar = blue_myocar/myocar', inplace=True)\n",
    "    return"
   ]
  },
  {
   "cell_type": "markdown",
   "metadata": {},
   "source": [
    "# Main "
   ]
  },
  {
   "cell_type": "markdown",
   "metadata": {},
   "source": [
    "## Merge CD31 with Movat"
   ]
  },
  {
   "cell_type": "code",
   "execution_count": 6,
   "metadata": {},
   "outputs": [
    {
     "name": "stdout",
     "output_type": "stream",
     "text": [
      "loading C:\\research\\cav\\datacd31\\output\\cav2\\31cd31_mvt_dilated.csv.zip\n",
      "saving C:\\research\\cav\\stats\\cav2\\32_final_dilated.csv.zip\n"
     ]
    }
   ],
   "source": [
    "if os.path.exists(f\"{outdir}{CD31_MVT_DIL_CSV}.zip\"):\n",
    "    print(f\"loading {outdir}{CD31_MVT_DIL_CSV}.zip\")\n",
    "    dil_df=pd.read_csv(f\"{outdir}{CD31_MVT_DIL_CSV}.zip\")\n",
    "    addComputedColumnsInPlace(dil_df)\n",
    "    addAddlComputedColumnsInPlace(dil_df)\n",
    "    print(f'saving {STATDIR}{FINAL_DIL_CSV}.zip')\n",
    "    dil_df.to_csv(f\"{STATDIR}{FINAL_DIL_CSV}.zip\", index=False, compression=dict(method='zip', archive_name=f'{FINAL_DIL_CSV}'))\n",
    "else :\n",
    "    print(f\"unable to load not load {outdir}{CD31_MVT_DIL_CSV}.zip\" )\n",
    "\n",
    "if os.path.exists(f\"{outdir}{CD31_MVT_UDL_CSV}.zip\"):\n",
    "    print(f\"loading {outdir}{CD31_MVT_UDL_CSV}.zip\")\n",
    "    udil_df=pd.read_csv(f\"{outdir}{CD31_MVT_UDL_CSV}.zip\")\n",
    "    addComputedColumnsInPlace(udil_df)\n",
    "    addAddlComputedColumnsInPlace(udil_df)\n",
    "    print(f'saving {STATDIR}{FINAL_UDL_CSV}.zip')\n",
    "    udil_df.to_csv(f\"{STATDIR}{FINAL_UDL_CSV}.zip\", index=False, compression=dict(method='zip', archive_name=f'{FINAL_UDL_CSV}'))\n",
    "\n",
    "\n"
   ]
  },
  {
   "cell_type": "code",
   "execution_count": null,
   "metadata": {},
   "outputs": [],
   "source": []
  }
 ],
 "metadata": {
  "interpreter": {
   "hash": "eef35e2da80e08d457f207eb475c9c1202eab50e3e1bde5e2984b2d7f2af5721"
  },
  "kernelspec": {
   "display_name": "Python 3.8.5 64-bit",
   "name": "python3"
  },
  "language_info": {
   "codemirror_mode": {
    "name": "ipython",
    "version": 3
   },
   "file_extension": ".py",
   "mimetype": "text/x-python",
   "name": "python",
   "nbconvert_exporter": "python",
   "pygments_lexer": "ipython3",
   "version": "3.8.5"
  },
  "metadata": {
   "interpreter": {
    "hash": "eef35e2da80e08d457f207eb475c9c1202eab50e3e1bde5e2984b2d7f2af5721"
   }
  },
  "orig_nbformat": 2
 },
 "nbformat": 4,
 "nbformat_minor": 2
}
