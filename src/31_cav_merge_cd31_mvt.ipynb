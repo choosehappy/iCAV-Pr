{
 "cells": [
  {
   "cell_type": "markdown",
   "metadata": {},
   "source": [
    "**Source Code Authors :**   \n",
    "> *Abigail Swamidoss (Abigail.Swamidoss@gmail.com), Samhith Kethireddy (Kethireddy.samhith@gmail.com)*  \n",
    "\n",
    "**Published in Research Article:**  \n",
    "> [Computational Analysis of Routine Biopsies Improves Diagnosis and Prediction of Cardiac Allograft Vasculopathy](https://www.ahajournals.org/doi/10.1161/CIRCULATIONAHA.121.058459)  \n",
    "> *by Eliot G. Peyster, Andrew Janowczyk, Abigail Swamidoss, Samhith Kethireddy, Michael D. Feldman and Kenneth B. Margulies*  \n",
    "*Originally published 11 Apr 2022*  \n",
    "  \n",
    "> [Supplementary Material](https://www.ahajournals.org/action/downloadSupplement?doi=10.1161%2FCIRCULATIONAHA.121.058459&file=10.1161.circulationaha.121.058459_supplemental_materials.pdf)  \n",
    "\n",
    "**Publisher**\n",
    "[Journal of American Heart Association (JAHA) - Circulation](https://www.ahajournals.org/journal/circ)"
   ]
  },
  {
   "cell_type": "markdown",
   "metadata": {},
   "source": [
    "#  Install, Setup gdrive and imports"
   ]
  },
  {
   "cell_type": "code",
   "execution_count": null,
   "metadata": {},
   "outputs": [],
   "source": [
    "import os\n",
    "import numpy as np\n",
    "import pandas as pd\n"
   ]
  },
  {
   "cell_type": "code",
   "execution_count": 2,
   "metadata": {},
   "outputs": [],
   "source": [
    "IN_CWR_SERVER = False \n",
    "slideset = 'cav2'"
   ]
  },
  {
   "cell_type": "markdown",
   "metadata": {},
   "source": [
    "# Files\n"
   ]
  },
  {
   "cell_type": "code",
   "execution_count": 3,
   "metadata": {},
   "outputs": [],
   "source": [
    "if IN_CWR_SERVER :\n",
    "  DATADIR = \"//datacd31/\"\n",
    "else : # LOCAL\n",
    "  DATADIR = \"C:\\\\research\\\\cav\\\\datacd31\\\\\"\n",
    "\n",
    "#input files and folders\n",
    "mvt_outdir = \"C:\\\\research\\\\cav\\\\datamvt\\\\output\\\\\" + slideset + \"\\\\\"\n",
    "MVT_CSV = '12_movat_all.csv'\n",
    "DAB_NUC_CSV_DIL = \"22cd31_dab_nuc_dil.csv\"\n",
    "DAB_NUC_CSV_UDL = \"22cd31_dab_nuc_udl.csv\"\n",
    "\n",
    "#output files\n",
    "outdir = DATADIR + \"output\\\\\" + slideset + \"\\\\\"\n",
    "FINAL_CSV_DIL = \"31cd31_mvt_dilated.csv\"\n",
    "FINAL_CSV_UDL = \"31cd31_mvt_undilated.csv\"\n",
    "\n",
    "# configs\n",
    "HEALTHY = ['HC', 'US', 'MA']\n",
    "DESEASED = ['DC']     \n",
    "DESEASED_YR1 = ['DY'] \n",
    "COHORTS = HEALTHY + DESEASED + DESEASED_YR1\n"
   ]
  },
  {
   "cell_type": "markdown",
   "metadata": {},
   "source": [
    "# Funtions"
   ]
  },
  {
   "cell_type": "code",
   "execution_count": 4,
   "metadata": {},
   "outputs": [],
   "source": [
    "def merge(isdilated) :\n",
    "    if isdilated :\n",
    "        infname = f\"{outdir}{DAB_NUC_CSV_DIL}.zip\"\n",
    "        outfname = FINAL_CSV_DIL\n",
    "    else :\n",
    "        infname = f\"{outdir}{DAB_NUC_CSV_UDL}.zip\"\n",
    "        outfname = FINAL_CSV_UDL\n",
    "    if os.path.exists(infname):\n",
    "        print('loading ', infname)\n",
    "        raw_f_df=pd.read_csv(infname)\n",
    "\n",
    "    if os.path.exists(f\"{mvt_outdir}{MVT_CSV}.zip\"):\n",
    "        print(f'loading {mvt_outdir}{MVT_CSV}.zip')\n",
    "        raw_mvt_df=pd.read_csv(f\"{mvt_outdir}{MVT_CSV}.zip\")\n",
    "\n",
    "    df = raw_f_df\n",
    "    mvt_df = raw_mvt_df\n",
    "\n",
    "    # Add movat data columns\n",
    "    df = pd.merge(left=df, right=mvt_df, on=['cohort', 'fname'], how=\"outer\" )\n",
    "\n",
    "    # Add computed columns\n",
    "    df = df.eval('stroma = collagen + blue + white_myocar + black')\n",
    "    df = df.eval('tissue = stroma + myocyte')\n",
    "\n",
    "    # Add a column to indicate control (healthy vs deceased)\n",
    "    df['control'] = np.where(df.cohort.isin(HEALTHY), 'Healthy', np.where(df.cohort.isin(DESEASED), \"Diseased\", 'Diseased_Yr1'))\n",
    "\n",
    "    df.reset_index(inplace=False)\n",
    "    #df.to_csv(DATADIR + \"TTTTTTstat_for_t-test.csv\")\n",
    "    print('saving', outfname)\n",
    "    df.to_csv(f\"{outdir}{outfname}.zip\", index=False, compression=dict(method='zip', archive_name=f'{outfname}'))\n",
    "    #df.to_csv(FINAL_CSV, index=False)\n"
   ]
  },
  {
   "cell_type": "markdown",
   "metadata": {},
   "source": [
    "# Main "
   ]
  },
  {
   "cell_type": "markdown",
   "metadata": {},
   "source": [
    "## Merge CD31 with Movat for dilated and undilated"
   ]
  },
  {
   "cell_type": "code",
   "execution_count": 5,
   "metadata": {},
   "outputs": [
    {
     "name": "stdout",
     "output_type": "stream",
     "text": [
      "loading  C:\\research\\cav\\datacd31\\output\\cav2\\22cd31_dab_nuc_dil.csv.zip\n",
      "loading C:\\research\\cav\\datamvt\\output\\cav2\\12_movat_all.csv.zip\n",
      "saving 31cd31_mvt_dilated.csv\n"
     ]
    }
   ],
   "source": [
    "merge(isdilated=True)\n",
    "#merge(isdilated=False)\n"
   ]
  },
  {
   "cell_type": "markdown",
   "metadata": {},
   "source": [
    "# Working Area"
   ]
  },
  {
   "cell_type": "code",
   "execution_count": null,
   "metadata": {},
   "outputs": [],
   "source": []
  }
 ],
 "metadata": {
  "interpreter": {
   "hash": "eef35e2da80e08d457f207eb475c9c1202eab50e3e1bde5e2984b2d7f2af5721"
  },
  "kernelspec": {
   "display_name": "Python 3.8.5 64-bit",
   "name": "python3"
  },
  "language_info": {
   "codemirror_mode": {
    "name": "ipython",
    "version": 3
   },
   "file_extension": ".py",
   "mimetype": "text/x-python",
   "name": "python",
   "nbconvert_exporter": "python",
   "pygments_lexer": "ipython3",
   "version": "3.10.4"
  },
  "metadata": {
   "interpreter": {
    "hash": "eef35e2da80e08d457f207eb475c9c1202eab50e3e1bde5e2984b2d7f2af5721"
   }
  },
  "orig_nbformat": 2
 },
 "nbformat": 4,
 "nbformat_minor": 2
}
