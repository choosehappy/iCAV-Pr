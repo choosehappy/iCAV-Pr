{
 "cells": [
  {
   "cell_type": "markdown",
   "metadata": {},
   "source": [
    "**Source Code Authors :**   \n",
    "> *Abigail Swamidoss (Abigail.Swamidoss@gmail.com), Samhith Kethireddy (Kethireddy.samhith@gmail.com)*  \n",
    "\n",
    "**Published in Research Article:**  \n",
    "> [Computational Analysis of Routine Biopsies Improves Diagnosis and Prediction of Cardiac Allograft Vasculopathy](https://www.ahajournals.org/doi/10.1161/CIRCULATIONAHA.121.058459)  \n",
    "> *by Eliot G. Peyster, Andrew Janowczyk, Abigail Swamidoss, Samhith Kethireddy, Michael D. Feldman and Kenneth B. Margulies*  \n",
    "*Originally published 11 Apr 2022*  \n",
    "  \n",
    "> [Supplementary Material](https://www.ahajournals.org/action/downloadSupplement?doi=10.1161%2FCIRCULATIONAHA.121.058459&file=10.1161.circulationaha.121.058459_supplemental_materials.pdf)  \n",
    "\n",
    "**Publisher**\n",
    "[Journal of American Heart Association (JAHA) - Circulation](https://www.ahajournals.org/journal/circ)"
   ]
  },
  {
   "cell_type": "markdown",
   "metadata": {},
   "source": [
    "#  Install, Setup gdrive and imports"
   ]
  },
  {
   "cell_type": "code",
   "execution_count": null,
   "metadata": {},
   "outputs": [],
   "source": [
    "import os\n",
    "import pandas as pd\n"
   ]
  },
  {
   "cell_type": "code",
   "execution_count": null,
   "metadata": {},
   "outputs": [],
   "source": [
    "IN_CWR_SERVER = False \n",
    "slideset = 'cav2'"
   ]
  },
  {
   "cell_type": "markdown",
   "metadata": {},
   "source": [
    "# Files\n"
   ]
  },
  {
   "cell_type": "code",
   "execution_count": null,
   "metadata": {},
   "outputs": [],
   "source": [
    "if IN_CWR_SERVER : # CWR server\n",
    "  datadir = \"/directory_in_CWR_server/\"\n",
    "else : # LOCAL\n",
    "  datadir = \"C:\\\\research\\\\cav\\\\datamvt\\\\\"\n",
    "\n",
    "# Input Folders and Files\n",
    "outdir = datadir + \"output\\\\\" + slideset + \"\\\\\"\n",
    "dc_f = outdir + \"11_mvt_DC.csv.zip\"\n",
    "hc_f = outdir + \"11_mvt_HC.csv.zip\" \n",
    "dy_f = outdir + \"11_mvt_DY.csv.zip\" \n",
    "us_f = outdir + \"11_mvt_US.csv.zip\" \n",
    "ma_f = outdir + \"11_mvt_MA.csv.zip\" \n",
    "dc_os_f = outdir + \"11_mvt_DC_OS.csv.zip\" \n",
    "hc_os_f = outdir + \"11_mvt_HC_OS.csv.zip\" \n",
    "dy_os_f = outdir + \"11_mvt_DY_OS.csv.zip\" \n",
    "us_os_f = outdir + \"11_mvt_US_OS.csv.zip\" \n",
    "ma_os_f = outdir + \"11_mvt_MA_OS.csv.zip\"\n",
    "\n",
    "#output folder and files\n",
    "statdir = datadir + \"stats\\\\\" + slideset + \"\\\\\"\n",
    "outfname = '12_movat_all.csv'\n"
   ]
  },
  {
   "cell_type": "markdown",
   "metadata": {},
   "source": [
    "# Main"
   ]
  },
  {
   "cell_type": "code",
   "execution_count": null,
   "metadata": {},
   "outputs": [],
   "source": [
    "raw_dc_df = pd.DataFrame()\n",
    "raw_hc_df = pd.DataFrame()\n",
    "raw_dy_df = pd.DataFrame()\n",
    "raw_us_df = pd.DataFrame()\n",
    "raw_ma_df = pd.DataFrame()\n",
    "raw_dc_os_df = pd.DataFrame()\n",
    "raw_hc_os_df = pd.DataFrame()\n",
    "raw_dy_os_df = pd.DataFrame()\n",
    "raw_us_os_df = pd.DataFrame()\n",
    "raw_ma_os_df = pd.DataFrame()\n",
    "\n",
    "if os.path.exists(dc_f):\n",
    "    raw_dc_df = pd.read_csv(dc_f) \n",
    "if os.path.exists(hc_f):\n",
    "    raw_hc_df = pd.read_csv(hc_f) \n",
    "if os.path.exists(dy_f):\n",
    "    raw_dy_df = pd.read_csv(dy_f) \n",
    "if os.path.exists(us_f):\n",
    "    raw_us_df = pd.read_csv(us_f) \n",
    "if os.path.exists(ma_f):\n",
    "    raw_ma_df = pd.read_csv(ma_f) \n",
    "\n",
    "if os.path.exists(dc_os_f):\n",
    "    raw_dc_os_df = pd.read_csv(dc_os_f) \n",
    "if os.path.exists(hc_os_f):\n",
    "    raw_hc_os_df = pd.read_csv(hc_os_f) \n",
    "if os.path.exists(dy_os_f):\n",
    "    raw_dy_os_df = pd.read_csv(dy_os_f) \n",
    "if os.path.exists(us_os_f):\n",
    "    raw_us_os_df = pd.read_csv(us_os_f) \n",
    "if os.path.exists(ma_os_f):\n",
    "    raw_ma_os_df = pd.read_csv(ma_os_f) \n",
    "\n",
    "comb_df = pd.concat([raw_dc_df, raw_hc_df, raw_dy_df, raw_us_df, raw_ma_df, raw_dc_os_df, raw_hc_os_df, raw_dy_os_df, raw_us_os_df, raw_ma_os_df], ignore_index=True)\n",
    "#comb_df.to_csv(statdir +\"movat_all_test0.csv\", index=True)\n",
    "\n",
    "GROUP_BY= ['cohort','fname']\n",
    "COLUMNS=['black', 'white', 'blue', 'collagen', 'myocyte', 'myocar', 'stro_myocar', 'collagen_myocar', 'blue_myocar', 'white_myocar']\n",
    "#comb_df = comb_df.groupby(['cohort','fname'])[['black', 'white', 'blue', 'collagen', 'myocyte', 'myocardium']].sum()\n",
    "comb_df = comb_df.groupby(GROUP_BY)[COLUMNS].sum()\n",
    "\n",
    "#comb_df.to_csv(outdir +\"movat_all.csv\", index=True)\n",
    "comb_df.to_csv(f\"{outdir}{outfname}.zip\", index=True, compression=dict(method='zip', archive_name=f'{outfname}'))\n",
    "print(f\"output saved in {outdir}{outfname}.zip\")"
   ]
  }
 ],
 "metadata": {
  "interpreter": {
   "hash": "eef35e2da80e08d457f207eb475c9c1202eab50e3e1bde5e2984b2d7f2af5721"
  },
  "kernelspec": {
   "display_name": "Python 3.8.5 64-bit",
   "name": "python3"
  },
  "language_info": {
   "codemirror_mode": {
    "name": "ipython",
    "version": 3
   },
   "file_extension": ".py",
   "mimetype": "text/x-python",
   "name": "python",
   "nbconvert_exporter": "python",
   "pygments_lexer": "ipython3",
   "version": "3.10.4"
  },
  "metadata": {
   "interpreter": {
    "hash": "eef35e2da80e08d457f207eb475c9c1202eab50e3e1bde5e2984b2d7f2af5721"
   }
  },
  "orig_nbformat": 2
 },
 "nbformat": 4,
 "nbformat_minor": 2
}
